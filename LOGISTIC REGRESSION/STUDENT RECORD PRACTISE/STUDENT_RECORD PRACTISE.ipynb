{
 "cells": [
  {
   "cell_type": "code",
   "execution_count": 1,
   "metadata": {},
   "outputs": [],
   "source": [
    "import pandas as pd"
   ]
  },
  {
   "cell_type": "code",
   "execution_count": 2,
   "metadata": {},
   "outputs": [
    {
     "data": {
      "text/html": [
       "<div>\n",
       "<style scoped>\n",
       "    .dataframe tbody tr th:only-of-type {\n",
       "        vertical-align: middle;\n",
       "    }\n",
       "\n",
       "    .dataframe tbody tr th {\n",
       "        vertical-align: top;\n",
       "    }\n",
       "\n",
       "    .dataframe thead th {\n",
       "        text-align: right;\n",
       "    }\n",
       "</style>\n",
       "<table border=\"1\" class=\"dataframe\">\n",
       "  <thead>\n",
       "    <tr style=\"text-align: right;\">\n",
       "      <th></th>\n",
       "      <th>Name</th>\n",
       "      <th>OverallGrade</th>\n",
       "      <th>Obedient</th>\n",
       "      <th>ResearchScore</th>\n",
       "      <th>ProjectScore</th>\n",
       "      <th>Recommend</th>\n",
       "    </tr>\n",
       "  </thead>\n",
       "  <tbody>\n",
       "    <tr>\n",
       "      <th>0</th>\n",
       "      <td>Henry</td>\n",
       "      <td>A</td>\n",
       "      <td>Y</td>\n",
       "      <td>90</td>\n",
       "      <td>85</td>\n",
       "      <td>Yes</td>\n",
       "    </tr>\n",
       "    <tr>\n",
       "      <th>1</th>\n",
       "      <td>John</td>\n",
       "      <td>C</td>\n",
       "      <td>N</td>\n",
       "      <td>85</td>\n",
       "      <td>51</td>\n",
       "      <td>Yes</td>\n",
       "    </tr>\n",
       "    <tr>\n",
       "      <th>2</th>\n",
       "      <td>David</td>\n",
       "      <td>F</td>\n",
       "      <td>N</td>\n",
       "      <td>10</td>\n",
       "      <td>17</td>\n",
       "      <td>No</td>\n",
       "    </tr>\n",
       "    <tr>\n",
       "      <th>3</th>\n",
       "      <td>Holmes</td>\n",
       "      <td>B</td>\n",
       "      <td>Y</td>\n",
       "      <td>75</td>\n",
       "      <td>71</td>\n",
       "      <td>No</td>\n",
       "    </tr>\n",
       "    <tr>\n",
       "      <th>4</th>\n",
       "      <td>Marvin</td>\n",
       "      <td>E</td>\n",
       "      <td>N</td>\n",
       "      <td>20</td>\n",
       "      <td>30</td>\n",
       "      <td>No</td>\n",
       "    </tr>\n",
       "    <tr>\n",
       "      <th>5</th>\n",
       "      <td>Simon</td>\n",
       "      <td>A</td>\n",
       "      <td>Y</td>\n",
       "      <td>92</td>\n",
       "      <td>79</td>\n",
       "      <td>Yes</td>\n",
       "    </tr>\n",
       "    <tr>\n",
       "      <th>6</th>\n",
       "      <td>Robert</td>\n",
       "      <td>B</td>\n",
       "      <td>Y</td>\n",
       "      <td>60</td>\n",
       "      <td>59</td>\n",
       "      <td>No</td>\n",
       "    </tr>\n",
       "    <tr>\n",
       "      <th>7</th>\n",
       "      <td>Trent</td>\n",
       "      <td>C</td>\n",
       "      <td>Y</td>\n",
       "      <td>75</td>\n",
       "      <td>33</td>\n",
       "      <td>No</td>\n",
       "    </tr>\n",
       "  </tbody>\n",
       "</table>\n",
       "</div>"
      ],
      "text/plain": [
       "     Name OverallGrade Obedient  ResearchScore  ProjectScore Recommend\n",
       "0   Henry            A        Y             90            85       Yes\n",
       "1    John            C        N             85            51       Yes\n",
       "2   David            F        N             10            17        No\n",
       "3  Holmes            B        Y             75            71        No\n",
       "4  Marvin            E        N             20            30        No\n",
       "5   Simon            A        Y             92            79       Yes\n",
       "6  Robert            B        Y             60            59        No\n",
       "7   Trent            C        Y             75            33        No"
      ]
     },
     "execution_count": 2,
     "metadata": {},
     "output_type": "execute_result"
    }
   ],
   "source": [
    "df=pd.read_csv(\"student_records.csv\")\n",
    "df"
   ]
  },
  {
   "cell_type": "code",
   "execution_count": 3,
   "metadata": {},
   "outputs": [
    {
     "name": "stdout",
     "output_type": "stream",
     "text": [
      "  OverallGrade Obedient  ResearchScore  ProjectScore\n",
      "0            A        Y             90            85\n",
      "1            C        N             85            51\n",
      "2            F        N             10            17\n",
      "3            B        Y             75            71\n",
      "4            E        N             20            30\n",
      "5            A        Y             92            79\n",
      "6            B        Y             60            59\n",
      "7            C        Y             75            33\n"
     ]
    }
   ],
   "source": [
    "#get features and corresponding outcomes\n",
    "#features:what we need to observe\n",
    "#labels:what we want to predict\n",
    "\n",
    "feature_names=[\"OverallGrade\", \"Obedient\", \"ResearchScore\", \"ProjectScore\",] \n",
    "training_features=df[feature_names]\n",
    "print(training_features)"
   ]
  },
  {
   "cell_type": "code",
   "execution_count": 4,
   "metadata": {
    "scrolled": true
   },
   "outputs": [
    {
     "name": "stdout",
     "output_type": "stream",
     "text": [
      "  Recommend\n",
      "0       Yes\n",
      "1       Yes\n",
      "2        No\n",
      "3        No\n",
      "4        No\n",
      "5       Yes\n",
      "6        No\n",
      "7        No\n"
     ]
    }
   ],
   "source": [
    "outcome_name=[\"Recommend\"]\n",
    "outcome_labels=df[outcome_name]\n",
    "print(outcome_labels)"
   ]
  },
  {
   "cell_type": "code",
   "execution_count": 5,
   "metadata": {},
   "outputs": [],
   "source": [
    "#list down features based on type\n",
    "\n",
    "numeric_feature_names=[\"ResearchScore\", \"ProjectScore\"]\n",
    "categorical_feature_names=[\"OverallGrade\", \"Obedient\"]"
   ]
  },
  {
   "cell_type": "code",
   "execution_count": 6,
   "metadata": {},
   "outputs": [],
   "source": [
    "#to supress warnings\n",
    "\n",
    "pd.options.mode.chained_assignment = None"
   ]
  },
  {
   "cell_type": "code",
   "execution_count": 7,
   "metadata": {},
   "outputs": [],
   "source": [
    "#scale or normalise the two numeric attributes\n",
    "\n",
    "from sklearn.preprocessing import StandardScaler\n",
    "ss=StandardScaler()"
   ]
  },
  {
   "cell_type": "code",
   "execution_count": 8,
   "metadata": {},
   "outputs": [
    {
     "data": {
      "text/plain": [
       "StandardScaler()"
      ]
     },
     "execution_count": 8,
     "metadata": {},
     "output_type": "execute_result"
    }
   ],
   "source": [
    "#fit scaler or numeric features\n",
    "#fit method learns the range of the data, find mean and std_dev\n",
    "\n",
    "ss.fit(training_features[numeric_feature_names])"
   ]
  },
  {
   "cell_type": "code",
   "execution_count": 9,
   "metadata": {},
   "outputs": [],
   "source": [
    "#scale numeric features\n",
    "#transform method transforms the data to a much reduced range\n",
    "\n",
    "training_features[numeric_feature_names]=ss.transform(training_features[numeric_feature_names])"
   ]
  },
  {
   "cell_type": "code",
   "execution_count": 10,
   "metadata": {},
   "outputs": [
    {
     "name": "stdout",
     "output_type": "stream",
     "text": [
      "  OverallGrade Obedient  ResearchScore  ProjectScore\n",
      "0            A        Y       0.899583      1.376650\n",
      "1            C        N       0.730648     -0.091777\n",
      "2            F        N      -1.803390     -1.560203\n",
      "3            B        Y       0.392776      0.772004\n",
      "4            E        N      -1.465519     -0.998746\n",
      "5            A        Y       0.967158      1.117516\n",
      "6            B        Y      -0.114032      0.253735\n",
      "7            C        Y       0.392776     -0.869179\n"
     ]
    }
   ],
   "source": [
    "print(training_features)"
   ]
  },
  {
   "cell_type": "code",
   "execution_count": 11,
   "metadata": {},
   "outputs": [],
   "source": [
    "##Rule for scaling \n",
    "## 1. SS can be applied in almost all cases\n",
    "## 2. If data has outliers then make sure u don't use MMS\n",
    "## 3. If data has outliers then prefer Robust Scalar."
   ]
  },
  {
   "cell_type": "code",
   "execution_count": 12,
   "metadata": {},
   "outputs": [
    {
     "name": "stdout",
     "output_type": "stream",
     "text": [
      "   ResearchScore  ProjectScore  OverallGrade_A  OverallGrade_B  \\\n",
      "0       0.899583      1.376650               1               0   \n",
      "1       0.730648     -0.091777               0               0   \n",
      "2      -1.803390     -1.560203               0               0   \n",
      "3       0.392776      0.772004               0               1   \n",
      "4      -1.465519     -0.998746               0               0   \n",
      "5       0.967158      1.117516               1               0   \n",
      "6      -0.114032      0.253735               0               1   \n",
      "7       0.392776     -0.869179               0               0   \n",
      "\n",
      "   OverallGrade_C  OverallGrade_E  OverallGrade_F  Obedient_N  Obedient_Y  \n",
      "0               0               0               0           0           1  \n",
      "1               1               0               0           1           0  \n",
      "2               0               0               1           1           0  \n",
      "3               0               0               0           0           1  \n",
      "4               0               1               0           1           0  \n",
      "5               0               0               0           0           1  \n",
      "6               0               0               0           0           1  \n",
      "7               1               0               0           0           1  \n"
     ]
    }
   ],
   "source": [
    "#Engineering Categorical Features\n",
    "training_features=pd.get_dummies(training_features, columns=categorical_feature_names)\n",
    "\n",
    "# view new engineering features, where the categorical features are coded as binary\n",
    "print(training_features)\n",
    "\n",
    "# We have converted our categoricial data into numeric. \n",
    "# or we can say we have done feature engineering over categorical data."
   ]
  },
  {
   "cell_type": "code",
   "execution_count": 13,
   "metadata": {},
   "outputs": [
    {
     "name": "stdout",
     "output_type": "stream",
     "text": [
      "['Obedient_N', 'OverallGrade_C', 'Obedient_Y', 'OverallGrade_A', 'OverallGrade_F', 'OverallGrade_B', 'OverallGrade_E']\n"
     ]
    }
   ],
   "source": [
    "categorical_engineered_features = list(set(training_features.columns) \n",
    "                                       - set(numeric_feature_names))\n",
    "\n",
    "print(categorical_engineered_features)"
   ]
  },
  {
   "cell_type": "code",
   "execution_count": 15,
   "metadata": {},
   "outputs": [],
   "source": [
    "from sklearn.linear_model import LogisticRegression\n",
    "import numpy as np\n",
    "import warnings; warnings.simplefilter(\"ignore\")\n"
   ]
  },
  {
   "cell_type": "code",
   "execution_count": 16,
   "metadata": {},
   "outputs": [],
   "source": [
    "lr=LogisticRegression()"
   ]
  },
  {
   "cell_type": "code",
   "execution_count": 18,
   "metadata": {},
   "outputs": [
    {
     "data": {
      "text/plain": [
       "LogisticRegression()"
      ]
     },
     "execution_count": 18,
     "metadata": {},
     "output_type": "execute_result"
    }
   ],
   "source": [
    "model=lr.fit(training_features,outcome_labels[\"Recommend\"])\n",
    "model"
   ]
  },
  {
   "cell_type": "code",
   "execution_count": 19,
   "metadata": {},
   "outputs": [
    {
     "name": "stdout",
     "output_type": "stream",
     "text": [
      "    Name OverallGrade Obedient  ResearchScore  ProjectScore\n",
      "0  Ninad            F        N             10            20\n",
      "1  Alxis            B        Y             78            80\n",
      "2   Faiz            C        N             69            70\n",
      "3  Sejal            A        Y             98            88\n",
      "4  Vijan            E        N             28            30\n"
     ]
    }
   ],
   "source": [
    "#sample data to check\n",
    "\n",
    "new_data = pd.DataFrame([{'Name': 'Ninad', 'OverallGrade': 'F', 'Obedient': 'N', 'ResearchScore': 10, 'ProjectScore': 20},\n",
    "                  {'Name': 'Alxis', 'OverallGrade': 'B', 'Obedient': 'Y', 'ResearchScore': 78, 'ProjectScore': 80}, \n",
    "                  {'Name': 'Faiz', 'OverallGrade': 'C', 'Obedient': 'N', 'ResearchScore': 69, 'ProjectScore': 70}, \n",
    "                  {'Name': 'Sejal', 'OverallGrade': 'A', 'Obedient': 'Y', 'ResearchScore': 98, 'ProjectScore': 88},\n",
    "                  {'Name': 'Vijan', 'OverallGrade': 'E', 'Obedient': 'N', 'ResearchScore': 28, 'ProjectScore': 30}])\n",
    "\n",
    "print(new_data)\n"
   ]
  },
  {
   "cell_type": "code",
   "execution_count": 22,
   "metadata": {},
   "outputs": [
    {
     "name": "stdout",
     "output_type": "stream",
     "text": [
      "   ResearchScore  ProjectScore  OverallGrade_A  OverallGrade_B  \\\n",
      "0      -1.803390     -1.430636               0               0   \n",
      "1       0.494137      1.160705               0               1   \n",
      "2       0.190053      0.728815               0               0   \n",
      "3       1.169881      1.506217               1               0   \n",
      "4      -1.195221     -0.998746               0               0   \n",
      "\n",
      "   OverallGrade_C  OverallGrade_E  OverallGrade_F  Obedient_N  Obedient_Y  \n",
      "0               0               0               1           1           0  \n",
      "1               0               0               0           0           1  \n",
      "2               1               0               0           1           0  \n",
      "3               0               0               0           0           1  \n",
      "4               0               1               0           1           0  \n",
      "Index(['ResearchScore', 'ProjectScore', 'OverallGrade_A', 'OverallGrade_B',\n",
      "       'OverallGrade_C', 'OverallGrade_E', 'OverallGrade_F', 'Obedient_N',\n",
      "       'Obedient_Y'],\n",
      "      dtype='object')\n"
     ]
    }
   ],
   "source": [
    "#data preparation\n",
    "prediction_features=new_data[feature_names]\n",
    "\n",
    "#scaling using standardScalar object\n",
    "prediction_features[numeric_feature_names]=ss.transform(prediction_features[numeric_feature_names])\n",
    "\n",
    "prediction_features = pd.get_dummies(prediction_features, \n",
    "                                     columns=categorical_feature_names)\n",
    "\n",
    "print(prediction_features)\n",
    "print(prediction_features.columns)"
   ]
  },
  {
   "cell_type": "code",
   "execution_count": 23,
   "metadata": {},
   "outputs": [
    {
     "name": "stdout",
     "output_type": "stream",
     "text": [
      "    Name OverallGrade Obedient  ResearchScore  ProjectScore Recommend\n",
      "0  Ninad            F        N             10            20        No\n",
      "1  Alxis            B        Y             78            80        No\n",
      "2   Faiz            C        N             69            70       Yes\n",
      "3  Sejal            A        Y             98            88       Yes\n",
      "4  Vijan            E        N             28            30        No\n"
     ]
    }
   ],
   "source": [
    "predictions = model.predict(prediction_features)\n",
    "\n",
    "new_data['Recommend'] = predictions\n",
    "print(new_data)"
   ]
  },
  {
   "cell_type": "code",
   "execution_count": null,
   "metadata": {},
   "outputs": [],
   "source": []
  },
  {
   "cell_type": "code",
   "execution_count": null,
   "metadata": {},
   "outputs": [],
   "source": []
  },
  {
   "cell_type": "code",
   "execution_count": null,
   "metadata": {},
   "outputs": [],
   "source": []
  },
  {
   "cell_type": "code",
   "execution_count": null,
   "metadata": {},
   "outputs": [],
   "source": []
  }
 ],
 "metadata": {
  "kernelspec": {
   "display_name": "Python 3",
   "language": "python",
   "name": "python3"
  },
  "language_info": {
   "codemirror_mode": {
    "name": "ipython",
    "version": 3
   },
   "file_extension": ".py",
   "mimetype": "text/x-python",
   "name": "python",
   "nbconvert_exporter": "python",
   "pygments_lexer": "ipython3",
   "version": "3.8.5"
  }
 },
 "nbformat": 4,
 "nbformat_minor": 4
}
